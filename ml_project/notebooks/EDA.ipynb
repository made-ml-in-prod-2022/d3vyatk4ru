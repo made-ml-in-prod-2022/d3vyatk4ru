{
  "cells": [
    {
      "cell_type": "code",
      "execution_count": 2,
      "metadata": {
        "id": "1gIewyMA1oCY"
      },
      "outputs": [],
      "source": [
        "import pandas as pd\n",
        "import matplotlib.pyplot as plt\n",
        "import seaborn as sns\n",
        "\n",
        "import warnings\n",
        "warnings.filterwarnings('ignore')"
      ]
    },
    {
      "cell_type": "code",
      "execution_count": null,
      "metadata": {
        "colab": {
          "base_uri": "https://localhost:8080/",
          "height": 206
        },
        "id": "L8h75uN8AG_Q",
        "outputId": "4168f58f-0664-4869-9c0f-0d2fed9f870f"
      },
      "outputs": [],
      "source": [
        "df = pd.read_csv('/content/drive/MyDrive/ml-prod/heart_cleveland_upload.csv')\n",
        "df.head(5)"
      ]
    },
    {
      "cell_type": "code",
      "execution_count": null,
      "metadata": {
        "colab": {
          "base_uri": "https://localhost:8080/"
        },
        "id": "Lu1TQYURDVkB",
        "outputId": "973f7751-ce48-443c-ba7a-ae5262ca4e6a"
      },
      "outputs": [],
      "source": [
        "numerical_features = ['age', 'trestbps', 'chol', 'thalach', 'oldpeak']\n",
        "categorical_features = list(set(df.columns) - set(numerical_features))\n",
        "categorical_features"
      ]
    },
    {
      "cell_type": "code",
      "execution_count": null,
      "metadata": {
        "colab": {
          "base_uri": "https://localhost:8080/"
        },
        "id": "IIWr030xJHeS",
        "outputId": "6a75970c-abfa-485d-fb50-7074169dc9e0"
      },
      "outputs": [],
      "source": [
        "df.info()"
      ]
    },
    {
      "cell_type": "code",
      "execution_count": null,
      "metadata": {
        "colab": {
          "base_uri": "https://localhost:8080/"
        },
        "id": "hsvXLMS1n0D0",
        "outputId": "5cbf60e0-622b-45f8-a65c-fd579aab273a"
      },
      "outputs": [],
      "source": [
        "df.notnull().sum()"
      ]
    },
    {
      "cell_type": "markdown",
      "metadata": {
        "id": "-RKFHkH0IeHm"
      },
      "source": [
        "#### Распределение для непрерывных признаков"
      ]
    },
    {
      "cell_type": "code",
      "execution_count": null,
      "metadata": {
        "colab": {
          "base_uri": "https://localhost:8080/",
          "height": 497
        },
        "id": "jhbkrshuD_i-",
        "outputId": "459ca1f8-e935-4488-e24f-a54655a4d583"
      },
      "outputs": [],
      "source": [
        "fig, ax = plt.subplots(2, 3, figsize=(13, 8))\n",
        "\n",
        "ax_array = [axis for row in ax for axis in row] \n",
        "\n",
        "for axis, feature in zip(ax_array, numerical_features):\n",
        "    sns.distplot(df[feature], ax=axis);"
      ]
    },
    {
      "cell_type": "markdown",
      "metadata": {
        "id": "ixgZ1wR5JAjv"
      },
      "source": [
        "#### Распределение для категориальных признаков"
      ]
    },
    {
      "cell_type": "code",
      "execution_count": null,
      "metadata": {
        "colab": {
          "base_uri": "https://localhost:8080/",
          "height": 592
        },
        "id": "HEJMewlaF6LX",
        "outputId": "aa5c9b47-809d-477c-b488-00f1579eae12"
      },
      "outputs": [],
      "source": [
        "fig, ax = plt.subplots(3, 3, figsize=(13, 10))\n",
        "\n",
        "ax_array = [axis for row in ax for axis in row] \n",
        "\n",
        "for axis, feature in zip(ax_array, categorical_features):\n",
        "    df[feature].hist(ax=axis)"
      ]
    },
    {
      "cell_type": "code",
      "execution_count": null,
      "metadata": {
        "colab": {
          "base_uri": "https://localhost:8080/",
          "height": 920
        },
        "id": "xpDZd9gaJKM8",
        "outputId": "b8762da8-3f6c-48cf-9ef4-0373df016c4a"
      },
      "outputs": [],
      "source": [
        "sns.pairplot(df, vars = numerical_features, hue='condition')"
      ]
    },
    {
      "cell_type": "markdown",
      "metadata": {
        "id": "GlASCng3C-cq"
      },
      "source": [
        "#### Смотрим корреляционную матрицу"
      ]
    },
    {
      "cell_type": "code",
      "execution_count": null,
      "metadata": {
        "colab": {
          "base_uri": "https://localhost:8080/",
          "height": 722
        },
        "id": "WLmZZu4IAxRA",
        "outputId": "54eb7cbe-5fd3-47fe-b0df-c351739c3947"
      },
      "outputs": [],
      "source": [
        "fig, ax = plt.subplots(figsize=(12, 12)) \n",
        "sns.heatmap(df.corr(), annot=True, ax=ax)"
      ]
    }
  ],
  "metadata": {
    "colab": {
      "collapsed_sections": [],
      "name": "EDA.ipynb",
      "provenance": []
    },
    "kernelspec": {
      "display_name": "Python 3",
      "name": "python3"
    },
    "language_info": {
      "name": "python"
    }
  },
  "nbformat": 4,
  "nbformat_minor": 0
}
